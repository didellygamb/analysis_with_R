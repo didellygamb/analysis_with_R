{
  "nbformat": 4,
  "nbformat_minor": 0,
  "metadata": {
    "colab": {
      "provenance": []
    },
    "kernelspec": {
      "name": "ir",
      "display_name": "R"
    },
    "language_info": {
      "name": "R"
    }
  },
  "cells": [
    {
      "cell_type": "markdown",
      "source": [
        "![editad.jpg](data:image/jpeg;base64,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)\n",
        "\n",
        "## Projeto Estatística Aplicada - Fase 01"
      ],
      "metadata": {
        "id": "VSghCdAK_Mro"
      }
    },
    {
      "cell_type": "markdown",
      "source": [
        "Importe de Bibliotecas usadas nesse Projeto.\n",
        "\n"
      ],
      "metadata": {
        "id": "4_efG-S--fTt"
      }
    },
    {
      "cell_type": "code",
      "execution_count": 100,
      "metadata": {
        "colab": {
          "base_uri": "https://localhost:8080/",
          "height": 86
        },
        "id": "r_y_-0rC9sPh",
        "outputId": "c265090a-d54b-4d54-9055-96d6da2f33e2"
      },
      "outputs": [
        {
          "output_type": "stream",
          "name": "stderr",
          "text": [
            "Installing packages into ‘/usr/local/lib/R/site-library’\n",
            "(as ‘lib’ is unspecified)\n",
            "\n"
          ]
        },
        {
          "output_type": "display_data",
          "data": {
            "text/plain": [
              "Time difference of 10.11456 secs"
            ]
          },
          "metadata": {}
        }
      ],
      "source": [
        "ini <- Sys.time()\n",
        "install.packages(c('skimr','tidyverse'), dep = TRUE)\n",
        "Sys.time()-ini\n",
        "library(skimr)"
      ]
    },
    {
      "cell_type": "markdown",
      "source": [
        "**Leitura dos dados do arquivo Fifa World**"
      ],
      "metadata": {
        "id": "FIp7oBLwDy8r"
      }
    },
    {
      "cell_type": "code",
      "source": [
        "# Lendo e armazenando o arquivo para a variável\n",
        "dados <- '/Anexo_Projeto_fifa_world_national_teams_versão_oficial 20241.csv'"
      ],
      "metadata": {
        "id": "wGDfY1Z1D9a_"
      },
      "execution_count": 101,
      "outputs": []
    },
    {
      "cell_type": "code",
      "source": [
        "# Validação dos cabelhaços para melhor leitura dos dados posteriormente\n",
        "\n",
        "#Lendo as primeiras linhas do arquivo\n",
        "linhas_iniciais <- readLines(dados, n = 2)\n",
        "print(linhas_iniciais)\n",
        "\n",
        "# Garantindo a leitura do arquivo com ou sem cabeçalho\n",
        "if (header_presente) {\n",
        "  dados_ <- read.csv2(dados, header = TRUE)\n",
        "} else {\n",
        "  dados_ <- read.csv2(dados, header = FALSE)\n",
        "\n",
        "  # Etapa de validação do cabeçalho: definindo os nomes das colunas manualmente\n",
        "  cn <- c(\"id\", \"name\", \"full_name\", \"overall_rating\", \"value_euro\", \"wage_euro\",\n",
        "          \"nationality\", \"national_team\", \"club_team\", \"age\", \"height_cm\",\n",
        "          \"weight_kgs\", \"international\")\n",
        "\n",
        "  if (length(cn) == ncol(dados_)) {\n",
        "    colnames(dados_) <- cn\n",
        "  } else {\n",
        "    stop(\"O número de nomes de colunas não corresponde ao número de colunas no dataframe.\")\n",
        "  }\n",
        "}\n",
        "\n",
        "# Verificando a estrutura dos dados\n",
        "str(dados_)\n"
      ],
      "metadata": {
        "colab": {
          "base_uri": "https://localhost:8080/"
        },
        "id": "5byKBvzzo972",
        "outputId": "37bae70e-3672-45a5-cfb6-a2b463e7ef29"
      },
      "execution_count": 102,
      "outputs": [
        {
          "output_type": "stream",
          "name": "stdout",
          "text": [
            "[1] \"id;name;full_name;overall_rating;value_euro;wage_euro;nationality;national_team;club_team;age;height_cm;weight_kgs;international_reputation(1-5);weak_foot(1-5);skill_moves(1-5);club_rating;Goleiro;Zagueiro;Meio;Atacante;crossing;finishing;heading_accuracy;short_passing;dribbling;jumping;strength;long_shots;aggression;GK_reflexes\"\n",
            "[2] \"158023;Messi;Lionel Andr\\xe9s Messi Cuccittini;94;110500000;565000;Argentina;Argentina;FC Barcelona;31;170;72;5;4;4;86;0;0;0;1;86;95;70;92;97;68;66;94;48;8\"                                                                                                                                                                               \n",
            "'data.frame':\t718 obs. of  30 variables:\n",
            " $ id                           : int  158023 153079 211110 201399 226226 199667 212616 216816 183892 231478 ...\n",
            " $ name                         : chr  \"Messi\" \"Aguero\" \"Dybala\" \"Icardi\" ...\n",
            " $ full_name                    : chr  \"Lionel Andr\\xe9s Messi Cuccittini\" \"Sergio Leonel Ag\\xfcero del Castillo\" \"Paulo Bruno Exequiel Dybala\" \"Mauro Emanuel Icardi Rivero\" ...\n",
            " $ overall_rating               : int  94 89 89 87 82 77 77 78 79 79 ...\n",
            " $ value_euro                   : int  110500000 64500000 89000000 64500000 30000000 8500000 12000000 15000000 8500000 18000000 ...\n",
            " $ wage_euro                    : int  565000 300000 205000 130000 83000 28000 27000 53000 19000 54000 ...\n",
            " $ nationality                  : chr  \"Argentina\" \"Argentina\" \"Argentina\" \"Argentina\" ...\n",
            " $ national_team                : chr  \"Argentina\" \"Argentina\" \"Argentina\" \"Argentina\" ...\n",
            " $ club_team                    : chr  \"FC Barcelona\" \"Manchester City\" \"Juventus\" \"Inter\" ...\n",
            " $ age                          : int  31 30 25 26 22 28 24 23 31 21 ...\n",
            " $ height_cm                    : int  170 173 152 155 175 185 152 155 155 175 ...\n",
            " $ weight_kgs                   : int  72 70 75 75 70 79 70 81 83 79 ...\n",
            " $ international_reputation.1.5.: int  5 4 3 3 1 2 1 2 1 1 ...\n",
            " $ weak_foot.1.5.               : int  4 4 3 4 3 3 3 3 3 4 ...\n",
            " $ skill_moves.1.5.             : int  4 4 4 3 4 2 4 3 2 4 ...\n",
            " $ club_rating                  : int  86 85 85 82 80 79 75 76 80 82 ...\n",
            " $ Goleiro                      : int  0 0 0 0 0 0 0 0 0 0 ...\n",
            " $ Zagueiro                     : int  0 0 0 0 0 0 0 0 0 0 ...\n",
            " $ Meio                         : int  0 0 0 0 0 0 0 0 0 0 ...\n",
            " $ Atacante                     : int  1 0 1 1 0 0 0 0 0 0 ...\n",
            " $ crossing                     : int  86 70 82 46 75 66 76 40 68 56 ...\n",
            " $ finishing                    : int  95 93 84 91 77 40 68 79 60 82 ...\n",
            " $ heading_accuracy             : int  70 77 68 91 59 79 50 80 76 79 ...\n",
            " $ short_passing                : int  92 81 87 73 82 70 78 68 71 62 ...\n",
            " $ dribbling                    : int  97 89 92 77 84 63 83 76 57 78 ...\n",
            " $ jumping                      : int  68 81 75 94 64 77 58 84 76 81 ...\n",
            " $ strength                     : int  66 73 65 76 69 78 68 72 82 86 ...\n",
            " $ long_shots                   : int  94 83 88 70 76 56 79 66 58 68 ...\n",
            " $ aggression                   : int  48 65 48 56 65 83 56 70 81 74 ...\n",
            " $ GK_reflexes                  : int  8 14 8 9 14 7 14 11 6 13 ...\n"
          ]
        }
      ]
    },
    {
      "cell_type": "markdown",
      "source": [
        "Foi confirmado que todas as variáveis estão com os seus repectivos tipos corretos sem precisar de alterações.\n",
        "\n",
        "\n",
        "# Encontrando e listando uma variável para cada tipo estatístico.\n",
        "\n",
        "*   Variável qualitativa nominal: 'name'\n",
        "*   Variável qualitativa ordinal: 'international_reputation.1.5.'\n",
        "*   Variável quantitativa discreta: 'age'\n",
        "*   Variável quantitativa contínua: 'height_cm'\n",
        "\n",
        "\n",
        "\n",
        "\n",
        "\n"
      ],
      "metadata": {
        "id": "tOQ1dJMrsKA-"
      }
    },
    {
      "cell_type": "markdown",
      "source": [
        "\n",
        "**Tabela de frequências para as variáveis qualitativas 'name' e 'international_reputation.1.5'**\n",
        "\n",
        "---\n",
        "\n"
      ],
      "metadata": {
        "id": "wkJfPdVfvJa0"
      }
    },
    {
      "cell_type": "code",
      "source": [
        "var_qlt <- c(\"name\", \"international_reputation.1.5.\")\n"
      ],
      "metadata": {
        "id": "V0k72Pocy6Zq"
      },
      "execution_count": 103,
      "outputs": []
    },
    {
      "cell_type": "code",
      "source": [
        "table_qlt <- sapply(dados_[, var_qlt], function(col) table(col, useNA ='always'))\n",
        "print(table_qlt)"
      ],
      "metadata": {
        "colab": {
          "base_uri": "https://localhost:8080/"
        },
        "id": "lRBNqcJWvMYq",
        "outputId": "8bcf37b0-63b6-448a-d9c2-d572e29e13e9"
      },
      "execution_count": 104,
      "outputs": [
        {
          "output_type": "stream",
          "name": "stdout",
          "text": [
            "$name\n",
            "col\n",
            "           ?ezn\\xedk               Acerbi                Adams \n",
            "                   1                    1                    1 \n",
            "        Adv\\xedncula               Aguero                 Ajer \n",
            "                   1                    1                    1 \n",
            "              Akanji             Akindele             Akinfeev \n",
            "                   1                    1                    1 \n",
            "               Akkan               Ak\\xe9                Alaba \n",
            "                   1                    1                    1 \n",
            "        Alderweireld             Aleesami     Alexander-Arnold \n",
            "                   1                    1                    1 \n",
            "               Allen                 Alli             Altidore \n",
            "                   1                    1                    1 \n",
            "               Amini               Ampadu               Angban \n",
            "                   1                    1                    1 \n",
            "            Arajuuri            Ara\\xfajo               Areola \n",
            "                   1                    1                    1 \n",
            "             Arfield                Arias            Armstrong \n",
            "                   1                    1                    1 \n",
            "          Arnautovi?              Arriola                Arter \n",
            "                   1                    1                    1 \n",
            "         Ar\\xe1nguiz     audio Co\\xedntra         Augustinsson \n",
            "                   1                    1                    1 \n",
            "              Aurier                Ayhan                 Aziz \n",
            "                   1                    1                    1 \n",
            "      B?aszczykowski                Babel                Bacca \n",
            "                   1                    1                    1 \n",
            "            Bagayoko               Bailly                 Bain \n",
            "                   1                    1                    1 \n",
            "             Bakakis            Bakasetas                 Bale \n",
            "                   1                    1                    1 \n",
            "            Balkovec              Barella               Barkas \n",
            "                   1                    1                    1 \n",
            "             Barkley            Bar\\xe1th                Bates \n",
            "                   1                    1                    1 \n",
            "           Batshuayi       Baumgartlinger               Bayram \n",
            "                   1                    1                    1 \n",
            "            Bednarek               Behich                Belec \n",
            "                   1                    1                    1 \n",
            "           ben Neves            Bentancur              Berardi \n",
            "                   1                    1                    1 \n",
            "         Bereszy?ski                Berge             Bergwijn \n",
            "                   1                    1                    1 \n",
            "               Beri?         Bernardeschi              Biraghi \n",
            "                   1                    1                    1 \n",
            "               Birsa                Bizot            Bjarnason \n",
            "                   1                    1                    1 \n",
            "            Bjelland                Blind                Bo?il \n",
            "                   1                    1                    1 \n",
            "             Boateng                Bolat              Bonucci \n",
            "                   1                    1                    1 \n",
            "         Bouchalakis               Boxall               Brabec \n",
            "                   1                    1                    1 \n",
            "             Bradley                Brady          Braithwaite \n",
            "                   1                    1                    1 \n",
            "              Brandt      Brault-Guillard       bri Prest\\xe3o \n",
            "                   1                    1                    1 \n",
            "              Brooks                Buksa              Butland \n",
            "                   2                    1                    1 \n",
            "    B\\xf6\\xf0varsson                   ca                  Can \n",
            "                   1                    1                    1 \n",
            "            Casteels          Castelletto               Cavani \n",
            "                   1                    1                    1 \n",
            "              Chadli            Cheryshev              Chester \n",
            "                   1                    1                    1 \n",
            "           Chiellini               Chiesa             Chilwell \n",
            "                   1                    1                    1 \n",
            "             Chipciu     cho Fern\\xe1ndez        Choupo-Moting \n",
            "                   1                    1                    1 \n",
            "         Christensen             Christie            Cillessen \n",
            "                   1                    2                    1 \n",
            "                  co              Coleman            Contreras \n",
            "                   1                    1                    1 \n",
            "           Cornelius             Courtois               Cragno \n",
            "                   2                    1                    1 \n",
            "          Cr\\xe9peau             Cuadrado           C\\xe1ceres \n",
            "                   1                    1                    1 \n",
            "          C\\xf3rdova            Dalsgaard               Darida \n",
            "                   1                    1                    1 \n",
            "               David               Davies            De Bruyne \n",
            "                   1                    3                    1 \n",
            "             de Jong              de Ligt              De Paul \n",
            "                   2                    1                    1 \n",
            "             de Roon           De Sciglio              de Vrij \n",
            "                   1                    1                    1 \n",
            "             Delaney                 Deli        Demb\\xe9l\\xe9 \n",
            "                   1                    1                    1 \n",
            "          Dendoncker                Depay             Despodov \n",
            "                   1                    1                    1 \n",
            "                Dier                Digne                Djoum \n",
            "                   1                    1                    1 \n",
            "       dney Pessinho              Doherty              Dolberg \n",
            "                   1                    1                    1 \n",
            "               Donis           Donnarumma           dos Santos \n",
            "                   1                    1                    1 \n",
            "         Doukour\\xe9                Doyle             Dragovi? \n",
            "                   1                    1                    1 \n",
            "             Draxler                  dri                 dric \n",
            "                   1                    1                    1 \n",
            "               drigo         dr\\xe9 Silva             Dumfries \n",
            "                   1                    1                    1 \n",
            "             Dummett               Durmaz               Dybala \n",
            "                   1                    1                    1 \n",
            "                Egan                Ekdal           Elmohamady \n",
            "                   1                    1                    1 \n",
            "              Elneny               Elvedi          Elyounoussi \n",
            "                   1                    1                    2 \n",
            "                  er              Eriksen                Ersoy \n",
            "                   1                    1                    1 \n",
            "           erticinho      erton Andr\\xe3o              ezeguet \n",
            "                   1                    1                    1 \n",
            "           Fabia?ski            Fabi\\xe1n                  Fai \n",
            "                   1                    1                    1 \n",
            "           Farf\\xe1n            Feltscher            Fernandes \n",
            "                   1                    1                    2 \n",
            "         Finnbogason              Fischer             Fletcher \n",
            "                   1                    1                    1 \n",
            "            Florenzi              Forrest             Forsberg \n",
            "                   1                    1                    1 \n",
            "           Fortounis               Fossum           Frankowski \n",
            "                   1                    1                    1 \n",
            "              Fraser              Freuler           Funes Mori \n",
            "                   1                    1                    1 \n",
            "         Gagliardini           Gavranovi?                  Gea \n",
            "                   1                    1                    1 \n",
            "      Gebre Selassie             Gersbach           Giannoulis \n",
            "                   1                    1                    1 \n",
            "          Gim\\xe9nez               Ginter               Giroud \n",
            "                   1                    1                    1 \n",
            "                Glik               Gnabry             go Aspas \n",
            "                   1                    1                    1 \n",
            "            God\\xedn              Golovin                Gomez \n",
            "                   1                    1                    1 \n",
            "              Gordon             Goretzka               Gradel \n",
            "                   1                    1                    1 \n",
            "            Granlund          Gregoritsch            Griezmann \n",
            "                   1                    1                    1 \n",
            "           Griffiths                Grifo           Grillitsch \n",
            "                   1                    1                    1 \n",
            "            Grosicki               Gruezo            Grytebust \n",
            "                   1                    1                    1 \n",
            "            Guardado             Guidetti           Gul\\xe1csi \n",
            "                   1                    1                    1 \n",
            "          Gunnarsson               Gunter         Guti\\xe9rrez \n",
            "                   1                    1                    2 \n",
            "               Guzan       Gu\\xf0mundsson             G\\xf3mez \n",
            "                   1                    2                    1 \n",
            "         G\\xfcndo?an            G\\xfcrler          G\\xedslason \n",
            "                   1                    1                    1 \n",
            "              Hassan               Hazard               Hector \n",
            "                   1                    2                    1 \n",
            "              Hegazi             Helander            Henderson \n",
            "                   1                    1                    1 \n",
            "            Hendrick               Hendry            Hennessey \n",
            "                   1                    1                    1 \n",
            "           Henriksen                Henry         Hern\\xe1ndez \n",
            "                   1                    1                    3 \n",
            "             Herrera            Hiljemark          Hinteregger \n",
            "                   1                    1                    1 \n",
            "              Ho?ava              Hoilett              Horvath \n",
            "                   1                    1                    1 \n",
            "           Hourihane       Hr\\xe1deck\\xfd              Hummels \n",
            "                   1                    1                    1 \n",
            "             Hurtado           Hutchinson          Hu\\x9abauer \n",
            "                   1                    1                    1 \n",
            " H\\xe4m\\xe4l\\xe4inen        i Patr\\xedcio                 iago \n",
            "                   1                    1                    1 \n",
            "        iano Mestres               Ibarra               Icardi \n",
            "                   1                    1                    1 \n",
            "     igo Mart\\xednez        ikel Catarino              ilherme \n",
            "                   1                    1                    1 \n",
            "              Ili?i?             Ilsanker         ilson Edrada \n",
            "                   1                    1                    1 \n",
            "            Immobile      imo Boas Santos              Ingason \n",
            "                   1                    1                    1 \n",
            "             Insigne               Irvine                 Isla \n",
            "                   1                    1                    1 \n",
            "         J?drzejczyk             Jaakkola              Jakovi? \n",
            "                   1                    1                    1 \n",
            "               James               Jankto              Jansson \n",
            "                   1                    1                    1 \n",
            "             Januzaj             Jarstein               Jensen \n",
            "                   1                    1                    2 \n",
            "          Jim\\xe9nez             Johansen              Johnsen \n",
            "                   1                    1                    1 \n",
            "             Johnson             Johnsson              Joronen \n",
            "                   1                    1                    1 \n",
            "        J\\xf8rgensen              K?dzior             K?dziora \n",
            "                   2                    1                    1 \n",
            "           K?r?nt?l?         Kade?\\xe1bek              Kahveci \n",
            "                   1                    1                    1 \n",
            "               Kainz                Kalas             Kald?r?m \n",
            "                   1                    1                    1 \n",
            "              Kamara               Kameni             Kami?ski \n",
            "                   1                    1                    1 \n",
            "                Kane             Kant\\xe9              Karelis \n",
            "                   1                    1                    1 \n",
            "                Kaye                   ke                Keogh \n",
            "                   1                    1                    1 \n",
            "           Kessi\\xe9         Kiese Thelin              Kimmich \n",
            "                   1                    1                    1 \n",
            "            Kimpembe                 King              Kj\\xe6r \n",
            "                   1                    1                    1 \n",
            "               Klich                Klose              Knudsen \n",
            "                   1                    1                    1 \n",
            "              Kodjia             Kol\\xe1?             Kombarov \n",
            "                   1                    1                    1 \n",
            "             Kompany              Kon\\xe9                Kopic \n",
            "                   1                    1                    1 \n",
            "              Koubek           Kourmpelis              Koutris \n",
            "                   1                    1                    1 \n",
            "               Kraev               Krafth               Krajnc \n",
            "                   1                    1                    1 \n",
            "              kratis                Krhin          Krmen?\\xedk \n",
            "                   1                    1                    1 \n",
            "               Kroos                Kruse           Kudryashov \n",
            "                   1                    1                    1 \n",
            "        Kunde Malong               Kurti?              Kutepov \n",
            "                   1                    1                    1 \n",
            "         K\\xe1d\\xe1r                  Lam               Lamela \n",
            "                   1                    1                    1 \n",
            "        Lampropoulos                 Lang                Larin \n",
            "                   1                    1                    1 \n",
            "             Larsson              Lasagna             Lawrence \n",
            "                   1                    1                    1 \n",
            "              Laxalt               Lazaro                 lcao \n",
            "                   1                    1                    1 \n",
            "              Leckie                Lemar              Lenihan \n",
            "                   1                    1                    1 \n",
            "                Leno              Lerager                Lerma \n",
            "                   1                    1                    1 \n",
            "               Leuko          Lewandowski                Lewis \n",
            "                   1                    1                    1 \n",
            "        Lichtsteiner                 Lima          Lindel\\xf6f \n",
            "                   1                    1                    1 \n",
            "             Lingard         lington Dano               Linnes \n",
            "                   1                    1                    1 \n",
            "             Lletget       lliam Carvalho               Lloris \n",
            "                   1                    1                    1 \n",
            "            Lo Celso                  Lod                 Long \n",
            "                   1                    1                    3 \n",
            "               Lorch               Lozano               Lukaku \n",
            "                   1                    1                    1 \n",
            "              Luongo               Lustig         lvin Parrela \n",
            "                   1                    1                    1 \n",
            "            L\\xf6ssl                Mabil            Mach\\xeds \n",
            "                   1                    1                    1 \n",
            "            Maddison                Maela         Magn\\xfasson \n",
            "                   1                    1                    1 \n",
            "             Maguire             Mandanda              Manolas \n",
            "                   2                    1                    1 \n",
            "            Mantalos                Marin           Marip\\xe1n \n",
            "                   1                    1                    1 \n",
            "         Mart\\xednez              Matuidi              Matynia \n",
            "                   2                    1                    1 \n",
            "               Maxim               Mbapp?             McBurnie \n",
            "                   1                    1                    1 \n",
            "             McClean             McGregor              McKenna \n",
            "                   1                    2                    1 \n",
            "            McKennie            McTominay                Medel \n",
            "                   1                    1                    1 \n",
            "              Meling               Mepham              Mercado \n",
            "                   1                    1                    1 \n",
            "             Mertens                Messi              Meunier \n",
            "                   1                    1                    1 \n",
            "              Miazga           Midtsj\\xf8                Milik \n",
            "                   1                    1                    1 \n",
            "            Milligan                 Mina            Miranchuk \n",
            "                   1                    1                    2 \n",
            "             Mitri??            Mitroglou              Mokotjo \n",
            "                   1                    1                    1 \n",
            "             Montero              Moreira               Moreno \n",
            "                   1                    1                    2 \n",
            "               Morsy              Mothiba            Moubandje \n",
            "                   1                    1                    1 \n",
            "           Mphahlele              Mulgrew               Muriel \n",
            "                   1                    1                    1 \n",
            "             Murillo              Muslera            M\\xfcller \n",
            "                   1                    1                    1 \n",
            "  M\\xf8ller D\\xe6hli            M\\xe9ndez        m\\xe3o Acunha \n",
            "                   1                    1                    1 \n",
            "                Nagy             Naismith        naldo Cabrais \n",
            "                   2                    1                    1 \n",
            "        nato Sanches             Ndombele                Neuer \n",
            "                   1                    1                    1 \n",
            "       Neust\\xe4dter       Ngadeu-Ngadjui          ni Ceballos \n",
            "                   1                    1                    1 \n",
            "      ni Rochelinhas                 Nita                 Njie \n",
            "                   1                    1                    1 \n",
            "             Nkoulou            Nordfeldt            Nordtveit \n",
            "                   1                    1                    1 \n",
            "                Ntep               Nyland               Nzonzi \n",
            "                   1                    1                    1 \n",
            "     n\\xe7alo Guedes              O'Brien              O'Dowda \n",
            "                   1                    1                    1 \n",
            "               Oblak                Ochoa                Ojala \n",
            "                   1                    1                    1 \n",
            "              Olinga                Olsen               Olsson \n",
            "                   1                    1                    1 \n",
            "               Onana                Ondoa                Orban \n",
            "                   1                    1                    1 \n",
            "              Osorio               Ospina             Otamendi \n",
            "                   1                    1                    1 \n",
            "                  pa              Pa?canu           Pantilimon \n",
            "                   1                    1                    1 \n",
            "             Paredes          Paschalakis             Paterson \n",
            "                   1                    1                    1 \n",
            "              Pavard                Payet               Pelkas \n",
            "                   1                    1                    1 \n",
            "          Pellegrini               Pelvas              Pereiro \n",
            "                   1                    1                    1 \n",
            "             Pereyra            Petr\\xe1k             Pezzella \n",
            "                   1                    1                    1 \n",
            "        Pe\\xf1aranda       phaelito Anjos             Phillips \n",
            "                   1                    1                    1 \n",
            "               Phiri               Pi?tek             Pickford \n",
            "                   1                    1                    1 \n",
            "            Pietrzak               Piette            pilicueta \n",
            "                   1                    1                    1 \n",
            "        Plattenhardt                Pogba                 Polo \n",
            "                   1                    1                    1 \n",
            "                Pope                Popov              Poulsen \n",
            "                   1                    1                    1 \n",
            "              Promes             Pr\\xf6dl           Pr\\xf6pper \n",
            "                   1                    1                    1 \n",
            "              Pu?ca?                Pukki               Pulgar \n",
            "                   1                    1                    1 \n",
            "             Pulisic              Quaison               Ramsey \n",
            "                   1                    1                    1 \n",
            "            Randolph             Rashford                 rata \n",
            "                   1                    1                    1 \n",
            "         rco Asensio             rdi Alba          Reginiussen \n",
            "                   1                    1                    1 \n",
            "                Reus                Reyes                Reyna \n",
            "                   1                    1                    1 \n",
            "         rgi Roberto               rginho        rgio Busquets \n",
            "                   1                    1                    1 \n",
            "          rgio Ramos            Rinc\\xf3n        rio Fernandes \n",
            "                   1                    1                    1 \n",
            "             rio Rui         rnardo Silva              Roberts \n",
            "                   1                    1                    2 \n",
            "           Robertson             Robinson                 Roco \n",
            "                   1                    2                    1 \n",
            "           Rodrrguez         Rodr\\xedguez                Rogi? \n",
            "                   1                    1                    1 \n",
            "           Rohd\\xe9n                Rojas               Roldan \n",
            "                   1                    1                    1 \n",
            "              Romero            Rond\\xf3n              Rosales \n",
            "                   2                    1                    1 \n",
            "                Rose               Rosted               Rugani \n",
            "                   1                    1                    1 \n",
            "          Ruid\\xedaz              Russell               rvajal \n",
            "                   1                    1                    1 \n",
            "              rvinho                 Ryan           R\\xfcdiger \n",
            "                   1                    1                    1 \n",
            "        R\\xfanarsson            R\\xf8nnow             S?punaru \n",
            "                   1                    1                    1 \n",
            "            Sabitzer            Sainsbury                Sakho \n",
            "                   1                    1                    1 \n",
            "               Salah               Sallai             Sanabria \n",
            "                   1                    1                    1 \n",
            "             San\\xe9              Sargent             Savarino \n",
            "                   1                    1                    1 \n",
            "             Sayouba       sberto Dourado               Schaub \n",
            "                   1                    1                    1 \n",
            "              Schick           Schmeichel          Sch\\xfcller \n",
            "                   1                    1                    1 \n",
            "           Sch\\xf8ne            Sch\\xf6pf             Sch\\xe4r \n",
            "                   1                    1                    1 \n",
            "             Shaqiri              Shinnie            Sidib\\xe9 \n",
            "                   1                    1                    1 \n",
            "       Sigur\\xf0sson              Simeone               Siovas \n",
            "                   1                    1                    1 \n",
            "              Sirigu                Sisto            Skorupski \n",
            "                   1                    1                    1 \n",
            "              Skrabb               Skubic          Sk\\xfalason \n",
            "                   1                    1                    1 \n",
            "               Smith               Smolov                   so \n",
            "                   1                    1                    1 \n",
            "              Sommer               Sou?ek                Sparv \n",
            "                   1                    1                    1 \n",
            "             Steffen             Sterling              Stevens \n",
            "                   1                    1                    1 \n",
            "      stiano Ronaldo               Stones            Strootman \n",
            "                   1                    1                    1 \n",
            "              Struna       Stryger Larsen               Stuani \n",
            "                   1                    1                    1 \n",
            "              Stulac    su\\xe9 Chiamulera            Su\\xe1rez \n",
            "                   1                    1                    2 \n",
            "            Svensson               Szalai             Szcz?sny \n",
            "                   2                    1                    1 \n",
            "             S\\xfcle           S\\xe1nchez           S\\xf8rloth \n",
            "                   1                    2                    1 \n",
            "    S\\xf6y\\xfcnc\\xfc           T?t?ru?anu                Tabla \n",
            "                   1                    1                    1 \n",
            "          Tagliafico                  Tah                Tapia \n",
            "                   1                    1                    1 \n",
            "                Tecl              Teibert             Tekdemir \n",
            "                   1                    1                    1 \n",
            "          ter Stegen                 Tete              Thauvin \n",
            "                   1                    1                    1 \n",
            "              Thomas            Tielemans              Tierney \n",
            "                   1                    1                    1 \n",
            "                  to                To?ca               Toivio \n",
            "                   1                    1                    1 \n",
            "         Toko-Ekambi            Torosidis             Torreira \n",
            "                   1                    1                    1 \n",
            "               Tosun             Tour\\xe9            Traor\\xe9 \n",
            "                   1                    1                    1 \n",
            "               Trapp           Traustason             Trippier \n",
            "                   1                    1                    1 \n",
            "            Tsimikas t\\xf4nio Chiamuloira           u L\\xf3pez \n",
            "                   1                    1                    1 \n",
            "                uhou                  uma         ure Santeiro \n",
            "                   1                    1                    1 \n",
            "         uri Beretta               Uronen            Vacl\\xedk \n",
            "                   1                    1                    1 \n",
            "            Valencia             Valverde          van Aanholt \n",
            "                   1                    1                    1 \n",
            "         van de Beek             van Dijk              Vanaken \n",
            "                   1                    1                    1 \n",
            "              Varane               Vecino               Verbi? \n",
            "                   1                    1                    1 \n",
            "           Vermaelen             Verratti           Vertonghen \n",
            "                   1                    1                    1 \n",
            "         Vestergaard                Vidal              Vilhena \n",
            "                   1                    1                    1 \n",
            "               Vokes              Vukovic       V\\xe4is\\xe4nen \n",
            "                   1                    1                    1 \n",
            "              Walker                 Ward                 Weah \n",
            "                   1                    1                    1 \n",
            "             Welbeck               Werner            Wijnaldum \n",
            "                   1                    1                    1 \n",
            "            Williams               Wilson               Wimmer \n",
            "                   2                    1                    1 \n",
            "               Winks               Witsel                 Wood \n",
            "                   1                    1                    2 \n",
            "            Woodburn                 Woud                Xhaka \n",
            "                   1                    1                    1 \n",
            "              Yaz?c?               Yedlin              ymar Jr \n",
            "                   1                    1                    1 \n",
            "             Yoku?lu                Young                y\\xe0 \n",
            "                   1                    1                    1 \n",
            "                Zajc              Zakaria       Zambo Anguissa \n",
            "                   1                    1                    1 \n",
            "              Zardes            Zieli?ski            Zimmerman \n",
            "                   1                    1                    1 \n",
            "              Zmrhal               Zobnin                 Zoet \n",
            "                   1                    1                    1 \n",
            "               Zouma                Zuber             zzolisco \n",
            "                   1                    1                    1 \n",
            "       \\xc7alhano?lu          \\xd8degaard             \\xc7elik \n",
            "                   1                    1                    1 \n",
            "               \\xfal              \\xdcnal             \\xdcnder \n",
            "                   1                    1                    1 \n",
            "       \\xe3o Cancelo       \\xe3o M\\xe1rio   \\xedqu\\xe3o Castro \n",
            "                   1                    1                    1 \n",
            "             \\x8eulj        \\xd6zbayrakl?             \\xd6zcan \n",
            "                   1                    1                    1 \n",
            "                <NA> \n",
            "                   0 \n",
            "\n",
            "$international_reputation.1.5.\n",
            "col\n",
            "   1    2    3    4    5 <NA> \n",
            " 402  183  104   24    5    0 \n",
            "\n"
          ]
        }
      ]
    },
    {
      "cell_type": "markdown",
      "source": [
        "**Tabela de medidas de posição e variabilidade das seguintes variáveis:**\n",
        "\n",
        "*   overall_rating\n",
        "*   value_euro\n",
        "*   age\n",
        "*   international_reputation.1.5.\n",
        "*   dribbling\n"
      ],
      "metadata": {
        "id": "u425Vqpf6cA6"
      }
    },
    {
      "cell_type": "code",
      "source": [
        "vars <- c(\"overall_rating\",\"value_euro\",\"age\",\"international_reputation.1.5.\",\"dribbling\")"
      ],
      "metadata": {
        "id": "vQBdWtpo6-PS"
      },
      "execution_count": 105,
      "outputs": []
    },
    {
      "cell_type": "code",
      "source": [
        "summary(dados_[, vars])"
      ],
      "metadata": {
        "colab": {
          "base_uri": "https://localhost:8080/",
          "height": 260
        },
        "id": "JSMygxPiFMA1",
        "outputId": "053c9094-1795-4a2a-8db1-a65d4c69b58a"
      },
      "execution_count": 106,
      "outputs": [
        {
          "output_type": "display_data",
          "data": {
            "text/plain": [
              " overall_rating    value_euro             age       \n",
              " Min.   :58.00   Min.   :   230000   Min.   :18.00  \n",
              " 1st Qu.:72.00   1st Qu.:  3325000   1st Qu.:24.00  \n",
              " Median :76.00   Median :  8000000   Median :26.00  \n",
              " Mean   :76.46   Mean   : 13897695   Mean   :26.57  \n",
              " 3rd Qu.:80.00   3rd Qu.: 17000000   3rd Qu.:29.00  \n",
              " Max.   :94.00   Max.   :110500000   Max.   :37.00  \n",
              " international_reputation.1.5.   dribbling    \n",
              " Min.   :1.000                 Min.   : 7.00  \n",
              " 1st Qu.:1.000                 1st Qu.:60.25  \n",
              " Median :1.000                 Median :70.00  \n",
              " Mean   :1.673                 Mean   :64.40  \n",
              " 3rd Qu.:2.000                 3rd Qu.:77.00  \n",
              " Max.   :5.000                 Max.   :97.00  "
            ]
          },
          "metadata": {}
        }
      ]
    },
    {
      "cell_type": "code",
      "source": [
        "# Visão geral do conjunto de dados\n",
        "skimr::skim(dados_)"
      ],
      "metadata": {
        "colab": {
          "base_uri": "https://localhost:8080/",
          "height": 1000
        },
        "id": "1dVgeBa8-k4m",
        "outputId": "5f680f36-66c7-457f-9ff5-411548cf263a"
      },
      "execution_count": 107,
      "outputs": [
        {
          "output_type": "stream",
          "name": "stderr",
          "text": [
            "Warning message:\n",
            "“\u001b[1m\u001b[22mThere was 1 warning in `dplyr::summarize()`.\n",
            "\u001b[1m\u001b[22m\u001b[36mℹ\u001b[39m In argument: `dplyr::across(tidyselect::any_of(variable_names),\n",
            "  mangled_skimmers$funs)`.\n",
            "\u001b[36mℹ\u001b[39m In group 0: .\n",
            "Caused by warning:\n",
            "\u001b[33m!\u001b[39m \u001b[1m\u001b[22mThere were 307 warnings in `dplyr::summarize()`.\n",
            "The first warning was:\n",
            "\u001b[1m\u001b[22m\u001b[36mℹ\u001b[39m In argument: `dplyr::across(tidyselect::any_of(variable_names),\n",
            "  mangled_skimmers$funs)`.\n",
            "Caused by warning in `grepl()`:\n",
            "\u001b[33m!\u001b[39m unable to translate 'Mart<ed>nez' to a wide string\n",
            "\u001b[1m\u001b[22m\u001b[36mℹ\u001b[39m Run `dplyr::last_dplyr_warnings()` to see the 306 remaining warnings.”\n"
          ]
        },
        {
          "output_type": "stream",
          "name": "stdout",
          "text": [
            "── Data Summary ────────────────────────\n",
            "                           Values\n",
            "Name                       dados_\n",
            "Number of rows             718   \n",
            "Number of columns          30    \n",
            "_______________________          \n",
            "Column type frequency:           \n",
            "  character                5     \n",
            "  numeric                  25    \n",
            "________________________         \n",
            "Group variables            None  \n",
            "\n",
            "── Variable type: character ────────────────────────────────────────────────────\n",
            "  skim_variable n_missing complete_rate min max empty n_unique whitespace\n",
            "\u001b[90m1\u001b[39m name                  0             1   2  16     0      687          0\n",
            "\u001b[90m2\u001b[39m full_name             0             1   8  42     0      718          0\n",
            "\u001b[90m3\u001b[39m nationality           0             1   4  19     0       45          0\n",
            "\u001b[90m4\u001b[39m national_team         0             1   4  19     0       45          0\n",
            "\u001b[90m5\u001b[39m club_team             0             1   3  29     0      227          0\n",
            "\n",
            "── Variable type: numeric ──────────────────────────────────────────────────────\n",
            "   skim_variable                 n_missing complete_rate          mean\n",
            "\u001b[90m 1\u001b[39m id                                    0             1   \u001b[4m2\u001b[24m\u001b[4m0\u001b[24m\u001b[4m3\u001b[24m668.    \n",
            "\u001b[90m 2\u001b[39m overall_rating                        0             1       76.5   \n",
            "\u001b[90m 3\u001b[39m value_euro                            0             1 13\u001b[4m8\u001b[24m\u001b[4m9\u001b[24m\u001b[4m7\u001b[24m695.    \n",
            "\u001b[90m 4\u001b[39m wage_euro                             0             1    \u001b[4m4\u001b[24m\u001b[4m9\u001b[24m560.    \n",
            "\u001b[90m 5\u001b[39m age                                   0             1       26.6   \n",
            "\u001b[90m 6\u001b[39m height_cm                             0             1      177.    \n",
            "\u001b[90m 7\u001b[39m weight_kgs                            0             1       77.7   \n",
            "\u001b[90m 8\u001b[39m international_reputation.1.5.         0             1        1.67  \n",
            "\u001b[90m 9\u001b[39m weak_foot.1.5.                        0             1        3.19  \n",
            "\u001b[90m10\u001b[39m skill_moves.1.5.                      0             1        2.79  \n",
            "\u001b[90m11\u001b[39m club_rating                           0             1       76.0   \n",
            "\u001b[90m12\u001b[39m Goleiro                               0             1        0.041\u001b[4m8\u001b[24m\n",
            "\u001b[90m13\u001b[39m Zagueiro                              0             1        0.075\u001b[4m2\u001b[24m\n",
            "\u001b[90m14\u001b[39m Meio                                  0             1        0.082\u001b[4m2\u001b[24m\n",
            "\u001b[90m15\u001b[39m Atacante                              0             1        0.100 \n",
            "\u001b[90m16\u001b[39m crossing                              0             1       58.6   \n",
            "\u001b[90m17\u001b[39m finishing                             0             1       53.4   \n",
            "\u001b[90m18\u001b[39m heading_accuracy                      0             1       59.1   \n",
            "\u001b[90m19\u001b[39m short_passing                         0             1       68.2   \n",
            "\u001b[90m20\u001b[39m dribbling                             0             1       64.4   \n",
            "\u001b[90m21\u001b[39m jumping                               0             1       69.2   \n",
            "\u001b[90m22\u001b[39m strength                              0             1       70.9   \n",
            "\u001b[90m23\u001b[39m long_shots                            0             1       56.9   \n",
            "\u001b[90m24\u001b[39m aggression                            0             1       64.1   \n",
            "\u001b[90m25\u001b[39m GK_reflexes                           0             1       18.4   \n",
            "             sd     p0       p25     p50       p75      p100 hist \n",
            "\u001b[90m 1\u001b[39m    \u001b[4m2\u001b[24m\u001b[4m4\u001b[24m500.     \u001b[4m2\u001b[24m\u001b[4m0\u001b[24m801  \u001b[4m1\u001b[24m\u001b[4m8\u001b[24m\u001b[4m9\u001b[24m831.   \u001b[4m2\u001b[24m\u001b[4m0\u001b[24m\u001b[4m4\u001b[24m626   \u001b[4m2\u001b[24m\u001b[4m2\u001b[24m\u001b[4m2\u001b[24m200.    \u001b[4m2\u001b[24m\u001b[4m4\u001b[24m\u001b[4m6\u001b[24m387 ▁▁▁▆▇\n",
            "\u001b[90m 2\u001b[39m        6.02      58      72        76       80         94 ▁▅▇▅▁\n",
            "\u001b[90m 3\u001b[39m 16\u001b[4m9\u001b[24m\u001b[4m1\u001b[24m\u001b[4m7\u001b[24m514.    \u001b[4m2\u001b[24m\u001b[4m3\u001b[24m\u001b[4m0\u001b[24m000 3\u001b[4m3\u001b[24m\u001b[4m2\u001b[24m\u001b[4m5\u001b[24m000   8\u001b[4m0\u001b[24m\u001b[4m0\u001b[24m\u001b[4m0\u001b[24m000 17\u001b[4m0\u001b[24m\u001b[4m0\u001b[24m\u001b[4m0\u001b[24m000  110\u001b[4m5\u001b[24m\u001b[4m0\u001b[24m\u001b[4m0\u001b[24m000 ▇▁▁▁▁\n",
            "\u001b[90m 4\u001b[39m    \u001b[4m6\u001b[24m\u001b[4m5\u001b[24m225.      \u001b[4m1\u001b[24m000   \u001b[4m1\u001b[24m\u001b[4m0\u001b[24m000     \u001b[4m2\u001b[24m\u001b[4m7\u001b[24m000    \u001b[4m5\u001b[24m\u001b[4m9\u001b[24m000     \u001b[4m5\u001b[24m\u001b[4m6\u001b[24m\u001b[4m5\u001b[24m000 ▇▁▁▁▁\n",
            "\u001b[90m 5\u001b[39m        3.59      18      24        26       29         37 ▂▇▇▅▁\n",
            "\u001b[90m 6\u001b[39m       14.3      152     170       183      188        203 ▃▁▂▇▂\n",
            "\u001b[90m 7\u001b[39m        7.30      59      73        77       82        100 ▂▆▇▃▁\n",
            "\u001b[90m 8\u001b[39m        0.892      1       1         1        2          5 ▇▃▂▁▁\n",
            "\u001b[90m 9\u001b[39m        0.755      1       3         3        4          5 ▁▂▇▅▁\n",
            "\u001b[90m10\u001b[39m        0.952      1       2         3        3          5 ▂▃▇▃▁\n",
            "\u001b[90m11\u001b[39m        5.26      60      72        76       80         86 ▁▃▇▇▅\n",
            "\u001b[90m12\u001b[39m        0.200      0       0         0        0          1 ▇▁▁▁▁\n",
            "\u001b[90m13\u001b[39m        0.264      0       0         0        0          1 ▇▁▁▁▁\n",
            "\u001b[90m14\u001b[39m        0.275      0       0         0        0          1 ▇▁▁▁▁\n",
            "\u001b[90m15\u001b[39m        0.301      0       0         0        0          1 ▇▁▁▁▁\n",
            "\u001b[90m16\u001b[39m       20.6        8      49        65       73         93 ▂▁▃▇▃\n",
            "\u001b[90m17\u001b[39m       22.1        7      37        58       70         95 ▃▃▅▇▂\n",
            "\u001b[90m18\u001b[39m       20.0        7      52        64       73         93 ▂▁▅▇▃\n",
            "\u001b[90m19\u001b[39m       15.3       11      65        72       78         92 ▁▁▁▇▆\n",
            "\u001b[90m20\u001b[39m       20.6        7      60.2      70       77         97 ▂▁▂▇▂\n",
            "\u001b[90m21\u001b[39m       11.8       28      63        70       77         95 ▁▂▆▇▃\n",
            "\u001b[90m22\u001b[39m       10.5       30      65        72       78         94 ▁▁▅▇▂\n",
            "\u001b[90m23\u001b[39m       21.4        5      46.2      63       72         94 ▂▂▃▇▂\n",
            "\u001b[90m24\u001b[39m       17.3       17      56        68       76         94 ▂▂▅▇▅\n",
            "\u001b[90m25\u001b[39m       22.2        2       8        11       14         94 ▇▁▁▁▁\n"
          ]
        },
        {
          "output_type": "error",
          "ename": "ERROR",
          "evalue": "Error in is.null(text_repr) || nchar(text_repr) == 0L: 'length = 17' in coercion to 'logical(1)'\n",
          "traceback": [
            "Error in is.null(text_repr) || nchar(text_repr) == 0L: 'length = 17' in coercion to 'logical(1)'\nTraceback:\n"
          ]
        }
      ]
    },
    {
      "cell_type": "markdown",
      "source": [
        "**Construção dos gráficos para melhor visualização dos resultados.**"
      ],
      "metadata": {
        "id": "0gvUmHDJB8ku"
      }
    },
    {
      "cell_type": "code",
      "source": [
        "# Visualizando em gráficos a média de idade dos jogadores usando a variável 'age'.\n",
        "hist(dados_$age)\n",
        "cs <- ecdf(dados_$age)\n",
        "plot(cs)\n",
        "media <- mean(dados_$age)\n",
        "cat('Média = ', media)\n",
        "cat('\\n')\n",
        "curve(pnorm(x,media,desvio), min(dados_$age), max(dados_$age), add = TRUE, col = 'red')"
      ],
      "metadata": {
        "colab": {
          "base_uri": "https://localhost:8080/",
          "height": 874
        },
        "id": "jNLZ_2iaAnpo",
        "outputId": "17d15f0d-6ca5-40ca-c583-e8495458b0ce"
      },
      "execution_count": 108,
      "outputs": [
        {
          "output_type": "display_data",
          "data": {
            "text/plain": [
              "Plot with title “Histogram of dados_$age”"
            ],
            "image/png": "[encoded data removed]"
          },
          "metadata": {
            "image/png": {
              "width": 420,
              "height": 420
            }
          }
        },
        {
          "output_type": "stream",
          "name": "stdout",
          "text": [
            "Média =  26.56546\n"
          ]
        },
        {
          "output_type": "display_data",
          "data": {
            "text/plain": [
              "Plot with title “ecdf(dados_$age)”"
            ],
            "image/png": "[encoded data removed]"
          },
          "metadata": {
            "image/png": {
              "width": 420,
              "height": 420
            }
          }
        }
      ]
    },
    {
      "cell_type": "code",
      "source": [
        "# Visualização em gráfico da frequência das notas obtidas na variável international_reputation\n",
        "barplot(table(dados_$international_reputation.1.5.), main = 'Frequência de Nota em International Reputation',\n",
        "        xlab = 'International Reputation', ylab = 'Frequência')"
      ],
      "metadata": {
        "colab": {
          "base_uri": "https://localhost:8080/",
          "height": 437
        },
        "id": "Fj_Pq-1vJ_nQ",
        "outputId": "b1f7efe7-1c3d-47ed-dc37-1123c6140f39"
      },
      "execution_count": 109,
      "outputs": [
        {
          "output_type": "display_data",
          "data": {
            "text/plain": [
              "Plot with title “Frequência de Nota em International Reputation”"
            ],
            "image/png": "[encoded data removed]"
          },
          "metadata": {
            "image/png": {
              "width": 420,
              "height": 420
            }
          }
        }
      ]
    },
    {
      "cell_type": "code",
      "source": [
        "# Visualização em gráfico para a variável height_cm\n",
        "# Criando a sequência de valores para a variável com mínimo, máximo e comprimento\n",
        "valores_height <- seq(min(dados_$height_cm), max(dados_$height_cm), length.out = 100)\n",
        "\n",
        "# Calculando a densidade de probabilidade para a distribuição normal\n",
        "densidade_normal <- dnorm(valores_height, mean = mean(dados_$height_cm), sd = sd(dados_$height_cm))\n",
        "\n",
        "# Gráfico\n",
        "plot(valores_height, densidade_normal, type = \"l\",\n",
        "     main = \"Representação da Curva de Gauss para height_cm\",\n",
        "     xlab = \"height_cm\", ylab = \"Densidade de probabilidade\")"
      ],
      "metadata": {
        "colab": {
          "base_uri": "https://localhost:8080/",
          "height": 437
        },
        "id": "ECDXk0s_Rziv",
        "outputId": "0f2bcf64-0b7b-4ec9-9b26-e315ab27c029"
      },
      "execution_count": 110,
      "outputs": [
        {
          "output_type": "display_data",
          "data": {
            "text/plain": [
              "Plot with title “Representação da Curva de Gauss para height_cm”"
            ],
            "image/png": "[encoded data removed]"
          },
          "metadata": {
            "image/png": {
              "width": 420,
              "height": 420
            }
          }
        }
      ]
    }
  ]
}